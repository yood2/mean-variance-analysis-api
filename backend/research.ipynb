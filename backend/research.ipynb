{
 "cells": [
  {
   "cell_type": "markdown",
   "metadata": {},
   "source": [
    "# Dependencies"
   ]
  },
  {
   "cell_type": "code",
   "execution_count": 24,
   "metadata": {},
   "outputs": [],
   "source": [
    "import numpy as np\n",
    "import pandas as pd\n",
    "import matplotlib.pyplot as plt\n",
    "from scipy.optimize import minimize\n",
    "import yfinance as yf"
   ]
  },
  {
   "cell_type": "markdown",
   "metadata": {},
   "source": [
    "# Initial fetch + setup"
   ]
  },
  {
   "cell_type": "code",
   "execution_count": 25,
   "metadata": {},
   "outputs": [
    {
     "name": "stderr",
     "output_type": "stream",
     "text": [
      "[*********************100%%**********************]  4 of 4 completed\n"
     ]
    }
   ],
   "source": [
    "portfolio = {'AAPL': 0.25, 'AMZN': 0.25, 'HEAR': 0.25, 'WEN': 0.25}\n",
    "window_start = '2018-01-01'\n",
    "window_end = '2023-01-01'\n",
    "data_type = 'Adj Close'\n",
    "\n",
    "data = yf.download(list(portfolio.keys()), start=window_start, end=window_end)[data_type]"
   ]
  },
  {
   "cell_type": "markdown",
   "metadata": {},
   "source": [
    "Process into returns (closing price -> percentage changes)"
   ]
  },
  {
   "cell_type": "code",
   "execution_count": 26,
   "metadata": {},
   "outputs": [
    {
     "data": {
      "text/html": [
       "<div>\n",
       "<style scoped>\n",
       "    .dataframe tbody tr th:only-of-type {\n",
       "        vertical-align: middle;\n",
       "    }\n",
       "\n",
       "    .dataframe tbody tr th {\n",
       "        vertical-align: top;\n",
       "    }\n",
       "\n",
       "    .dataframe thead th {\n",
       "        text-align: right;\n",
       "    }\n",
       "</style>\n",
       "<table border=\"1\" class=\"dataframe\">\n",
       "  <thead>\n",
       "    <tr style=\"text-align: right;\">\n",
       "      <th>Ticker</th>\n",
       "      <th>AAPL</th>\n",
       "      <th>AMZN</th>\n",
       "      <th>HEAR</th>\n",
       "      <th>WEN</th>\n",
       "    </tr>\n",
       "    <tr>\n",
       "      <th>Date</th>\n",
       "      <th></th>\n",
       "      <th></th>\n",
       "      <th></th>\n",
       "      <th></th>\n",
       "    </tr>\n",
       "  </thead>\n",
       "  <tbody>\n",
       "    <tr>\n",
       "      <th>2018-01-03</th>\n",
       "      <td>-0.000174</td>\n",
       "      <td>0.012775</td>\n",
       "      <td>-0.029213</td>\n",
       "      <td>0.023284</td>\n",
       "    </tr>\n",
       "    <tr>\n",
       "      <th>2018-01-04</th>\n",
       "      <td>0.004645</td>\n",
       "      <td>0.004476</td>\n",
       "      <td>0.030093</td>\n",
       "      <td>-0.011377</td>\n",
       "    </tr>\n",
       "    <tr>\n",
       "      <th>2018-01-05</th>\n",
       "      <td>0.011385</td>\n",
       "      <td>0.016163</td>\n",
       "      <td>0.022472</td>\n",
       "      <td>0.016959</td>\n",
       "    </tr>\n",
       "    <tr>\n",
       "      <th>2018-01-08</th>\n",
       "      <td>-0.003714</td>\n",
       "      <td>0.014425</td>\n",
       "      <td>0.006593</td>\n",
       "      <td>-0.010125</td>\n",
       "    </tr>\n",
       "    <tr>\n",
       "      <th>2018-01-09</th>\n",
       "      <td>-0.000115</td>\n",
       "      <td>0.004676</td>\n",
       "      <td>-0.028384</td>\n",
       "      <td>0.043321</td>\n",
       "    </tr>\n",
       "    <tr>\n",
       "      <th>...</th>\n",
       "      <td>...</td>\n",
       "      <td>...</td>\n",
       "      <td>...</td>\n",
       "      <td>...</td>\n",
       "    </tr>\n",
       "    <tr>\n",
       "      <th>2022-12-23</th>\n",
       "      <td>-0.002798</td>\n",
       "      <td>0.017425</td>\n",
       "      <td>0.005755</td>\n",
       "      <td>0.006527</td>\n",
       "    </tr>\n",
       "    <tr>\n",
       "      <th>2022-12-27</th>\n",
       "      <td>-0.013878</td>\n",
       "      <td>-0.025924</td>\n",
       "      <td>-0.041488</td>\n",
       "      <td>-0.011673</td>\n",
       "    </tr>\n",
       "    <tr>\n",
       "      <th>2022-12-28</th>\n",
       "      <td>-0.030685</td>\n",
       "      <td>-0.014692</td>\n",
       "      <td>-0.010448</td>\n",
       "      <td>-0.007874</td>\n",
       "    </tr>\n",
       "    <tr>\n",
       "      <th>2022-12-29</th>\n",
       "      <td>0.028324</td>\n",
       "      <td>0.028844</td>\n",
       "      <td>0.051282</td>\n",
       "      <td>0.004409</td>\n",
       "    </tr>\n",
       "    <tr>\n",
       "      <th>2022-12-30</th>\n",
       "      <td>0.002469</td>\n",
       "      <td>-0.002138</td>\n",
       "      <td>0.028694</td>\n",
       "      <td>-0.006585</td>\n",
       "    </tr>\n",
       "  </tbody>\n",
       "</table>\n",
       "<p>1258 rows × 4 columns</p>\n",
       "</div>"
      ],
      "text/plain": [
       "Ticker          AAPL      AMZN      HEAR       WEN\n",
       "Date                                              \n",
       "2018-01-03 -0.000174  0.012775 -0.029213  0.023284\n",
       "2018-01-04  0.004645  0.004476  0.030093 -0.011377\n",
       "2018-01-05  0.011385  0.016163  0.022472  0.016959\n",
       "2018-01-08 -0.003714  0.014425  0.006593 -0.010125\n",
       "2018-01-09 -0.000115  0.004676 -0.028384  0.043321\n",
       "...              ...       ...       ...       ...\n",
       "2022-12-23 -0.002798  0.017425  0.005755  0.006527\n",
       "2022-12-27 -0.013878 -0.025924 -0.041488 -0.011673\n",
       "2022-12-28 -0.030685 -0.014692 -0.010448 -0.007874\n",
       "2022-12-29  0.028324  0.028844  0.051282  0.004409\n",
       "2022-12-30  0.002469 -0.002138  0.028694 -0.006585\n",
       "\n",
       "[1258 rows x 4 columns]"
      ]
     },
     "execution_count": 26,
     "metadata": {},
     "output_type": "execute_result"
    }
   ],
   "source": [
    "returns = data.pct_change().dropna()\n",
    "\n",
    "returns"
   ]
  },
  {
   "cell_type": "markdown",
   "metadata": {},
   "source": [
    "#### Expected Return of Asset\n",
    "Calculate expected returns for each stock. This time we will use historical average just to keep things simple. Other options include:\n",
    "- CAPM, uses risk in calculation\n",
    "- DMM or GGMN, better for dividend portfolios with predictable growth"
   ]
  },
  {
   "cell_type": "code",
   "execution_count": 27,
   "metadata": {},
   "outputs": [
    {
     "data": {
      "text/plain": [
       "Ticker\n",
       "AAPL    0.001141\n",
       "AMZN    0.000529\n",
       "HEAR    0.002463\n",
       "WEN     0.000711\n",
       "dtype: float64"
      ]
     },
     "execution_count": 27,
     "metadata": {},
     "output_type": "execute_result"
    }
   ],
   "source": [
    "expected_returns = returns.mean()\n",
    "\n",
    "expected_returns"
   ]
  },
  {
   "cell_type": "markdown",
   "metadata": {},
   "source": [
    "#### Covariance of Assets\n",
    "Basically, covariance between financial returns is statistical measure that quantifies degree to which financial assets move together.\n",
    "$$\n",
    "Cov_{x,y} = \\frac{\\sum (x_i - \\bar{x})(y_i - \\bar{y})}{N-1}\n",
    "$$\n",
    "\n",
    "EDIT: NVM pandas can do this for me!!!!"
   ]
  },
  {
   "cell_type": "code",
   "execution_count": 28,
   "metadata": {},
   "outputs": [
    {
     "data": {
      "text/html": [
       "<div>\n",
       "<style scoped>\n",
       "    .dataframe tbody tr th:only-of-type {\n",
       "        vertical-align: middle;\n",
       "    }\n",
       "\n",
       "    .dataframe tbody tr th {\n",
       "        vertical-align: top;\n",
       "    }\n",
       "\n",
       "    .dataframe thead th {\n",
       "        text-align: right;\n",
       "    }\n",
       "</style>\n",
       "<table border=\"1\" class=\"dataframe\">\n",
       "  <thead>\n",
       "    <tr style=\"text-align: right;\">\n",
       "      <th>Ticker</th>\n",
       "      <th>AAPL</th>\n",
       "      <th>AMZN</th>\n",
       "      <th>HEAR</th>\n",
       "      <th>WEN</th>\n",
       "    </tr>\n",
       "    <tr>\n",
       "      <th>Ticker</th>\n",
       "      <th></th>\n",
       "      <th></th>\n",
       "      <th></th>\n",
       "      <th></th>\n",
       "    </tr>\n",
       "  </thead>\n",
       "  <tbody>\n",
       "    <tr>\n",
       "      <th>AAPL</th>\n",
       "      <td>0.000445</td>\n",
       "      <td>0.000310</td>\n",
       "      <td>0.000320</td>\n",
       "      <td>0.000187</td>\n",
       "    </tr>\n",
       "    <tr>\n",
       "      <th>AMZN</th>\n",
       "      <td>0.000310</td>\n",
       "      <td>0.000509</td>\n",
       "      <td>0.000344</td>\n",
       "      <td>0.000152</td>\n",
       "    </tr>\n",
       "    <tr>\n",
       "      <th>HEAR</th>\n",
       "      <td>0.000320</td>\n",
       "      <td>0.000344</td>\n",
       "      <td>0.002863</td>\n",
       "      <td>0.000255</td>\n",
       "    </tr>\n",
       "    <tr>\n",
       "      <th>WEN</th>\n",
       "      <td>0.000187</td>\n",
       "      <td>0.000152</td>\n",
       "      <td>0.000255</td>\n",
       "      <td>0.000756</td>\n",
       "    </tr>\n",
       "  </tbody>\n",
       "</table>\n",
       "</div>"
      ],
      "text/plain": [
       "Ticker      AAPL      AMZN      HEAR       WEN\n",
       "Ticker                                        \n",
       "AAPL    0.000445  0.000310  0.000320  0.000187\n",
       "AMZN    0.000310  0.000509  0.000344  0.000152\n",
       "HEAR    0.000320  0.000344  0.002863  0.000255\n",
       "WEN     0.000187  0.000152  0.000255  0.000756"
      ]
     },
     "execution_count": 28,
     "metadata": {},
     "output_type": "execute_result"
    }
   ],
   "source": [
    "covariance = returns.cov()\n",
    "\n",
    "covariance"
   ]
  },
  {
   "cell_type": "markdown",
   "metadata": {},
   "source": [
    "# IMPORTANT PORTFOLIO METRICS\n",
    "- Expected Return of Portfolio\n",
    "$$\n",
    "E(R_p) = w_1 \\cdot E(R_1) + w_2 \\cdot E(R_2)\n",
    "$$\n",
    "- Portfolio Variance\n",
    "$$\n",
    "\\sigma_p^2 = w_1^2 \\cdot \\sigma_1^2 + w_2^2 \\cdot \\sigma_2^2 + 2 \\cdot w_1 \\cdot w_2 \\cdot Cov(R_1, R_2)\n",
    "$$\n",
    "- Portfolio Standard Deviation\n",
    "$$\n",
    "\\sigma_p = \\sqrt{\\sigma_p^2}\n",
    "$$\n",
    "- Sharpe Ratio\n",
    "$$\n",
    "\\text{Sharpe Ratio} = \\frac{E(R_p)-R_f}{\\sigma_p}\n",
    "$$"
   ]
  },
  {
   "cell_type": "code",
   "execution_count": 29,
   "metadata": {},
   "outputs": [],
   "source": [
    "def metrics(weights, expected_returns, covariance, risk_free_rate):\n",
    "    portfolio_return = np.dot(weights, expected_returns)\n",
    "    # NOTE FOR VAR: Need to use weights.T to transpose weights\n",
    "    portfolio_var = np.dot(weights.T, np.dot(covariance, weights))\n",
    "    portfolio_std = np.sqrt(portfolio_var)\n",
    "    sharpe = (portfolio_return - risk_free_rate) / portfolio_std\n",
    "    return portfolio_return, portfolio_std, sharpe\n",
    "\n",
    "# TEST\n",
    "# weights = np.array([0.5, 0.5]) # 50/50 portfolio\n",
    "# risk_free_rate = 0.02 # 2% risk free rate\n",
    "\n",
    "# metrics(weights, expected_returns, covariance, risk_free_rate)"
   ]
  },
  {
   "cell_type": "markdown",
   "metadata": {},
   "source": [
    "# Optimization algorithm for optimal weights\n",
    "Basically, generate a bunch of possible weight combinations. For each weight combination, calculate portfolio metrics and update best weight if the Sharpe Ratio improves."
   ]
  },
  {
   "cell_type": "code",
   "execution_count": 32,
   "metadata": {},
   "outputs": [
    {
     "name": "stdout",
     "output_type": "stream",
     "text": [
      "Optimal weights: AAPL: 0.00%, AMZN: 0.00%, HEAR: 100.00%, WEN: 0.00%\n"
     ]
    }
   ],
   "source": [
    "####### Define this first #######\n",
    "risk_free_rate = 0.02\n",
    "num_points = 100\n",
    "####### Define this first #######\n",
    "\n",
    "'''\n",
    "Bruh this shit way too slow\n",
    "'''\n",
    "# def iterate_weights(weight_combinations, num_assets):\n",
    "#     # Generate all possible combinations of weights\n",
    "#     if num_assets == 1:\n",
    "#         yield [1.0]\n",
    "#     else:\n",
    "#         for weight in weight_combinations:\n",
    "#             for remaining_weights in iterate_weights(weight_combinations, num_assets - 1):\n",
    "#                 yield [weight] + [w * (1 - weight) for w in remaining_weights]\n",
    "\n",
    "# def optimize(expected_returns, cov_matrix, risk_free_rate, num_points=100):\n",
    "#     num_assets = len(expected_returns)\n",
    "#     best_sharpe = -np.inf\n",
    "#     best_weights = None\n",
    "\n",
    "#     # Generate all combinations of weights that sum to 1 using linspace\n",
    "#     weight_combinations = np.linspace(0, 1, num_points)\n",
    "    \n",
    "#     # Use itertools to iterate over all possible weight combinations\n",
    "#     for weights in iterate_weights(weight_combinations, num_assets):\n",
    "#         weights = np.array(weights)\n",
    "        \n",
    "#         if np.isclose(np.sum(weights), 1):  # Ensure weights sum to 1\n",
    "#             # Calculate portfolio statistics\n",
    "#             portfolio_return, portfolio_std_dev, sharpe_ratio = metrics(weights, expected_returns, cov_matrix, risk_free_rate)\n",
    "\n",
    "#             # Update best weights if a higher Sharpe Ratio is found\n",
    "#             if sharpe_ratio > best_sharpe:\n",
    "#                 best_sharpe = sharpe_ratio\n",
    "#                 best_weights = weights\n",
    "\n",
    "#     return best_weights, best_sharpe\n",
    "\n",
    "# optimize(expected_returns, covariance, risk_free_rate, num_points)\n",
    "\n",
    "'''\n",
    "Using scipy?\n",
    "'''\n",
    "def negative_sharpe_ratio(weights, expected_returns, cov_matrix, risk_free_rate):\n",
    "    return -metrics(weights, expected_returns, cov_matrix, risk_free_rate)[2]\n",
    "\n",
    "def weight_constraint(weights):\n",
    "    return np.sum(weights) - 1\n",
    "\n",
    "bounds = [(0, 1) for _ in range(len(expected_returns))]\n",
    "\n",
    "initial_guess = [1.0 / len(expected_returns) for _ in range(len(expected_returns))]\n",
    "\n",
    "constraints = ({'type': 'eq', 'fun': weight_constraint})\n",
    "\n",
    "result = minimize(\n",
    "    negative_sharpe_ratio,\n",
    "    initial_guess,\n",
    "    args=(expected_returns, covariance, risk_free_rate),\n",
    "    method='SLSQP',\n",
    "    bounds=bounds,\n",
    "    constraints=constraints\n",
    ")\n",
    "\n",
    "optimal_weights = result.x\n",
    "\n",
    "def format_weights_as_percentages(weights):\n",
    "    return ', '.join([f\"{asset}: {weight * 100:.2f}%\" for asset, weight in zip(returns.columns, weights)])\n",
    "\n",
    "print(f'Optimal weights: {format_weights_as_percentages(optimal_weights)}')\n"
   ]
  }
 ],
 "metadata": {
  "kernelspec": {
   "display_name": "venv",
   "language": "python",
   "name": "python3"
  },
  "language_info": {
   "codemirror_mode": {
    "name": "ipython",
    "version": 3
   },
   "file_extension": ".py",
   "mimetype": "text/x-python",
   "name": "python",
   "nbconvert_exporter": "python",
   "pygments_lexer": "ipython3",
   "version": "3.9.6"
  }
 },
 "nbformat": 4,
 "nbformat_minor": 2
}
